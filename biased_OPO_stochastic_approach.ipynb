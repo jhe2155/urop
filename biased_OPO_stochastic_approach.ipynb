{
 "cells": [
  {
   "cell_type": "code",
   "execution_count": 39,
   "id": "96e5fa69",
   "metadata": {},
   "outputs": [
    {
     "name": "stderr",
     "output_type": "stream",
     "text": [
      "\u001b[32m\u001b[1m   Resolving\u001b[22m\u001b[39m package versions...\n",
      "\u001b[32m\u001b[1m  No Changes\u001b[22m\u001b[39m to `~/.julia/environments/v1.9/Project.toml`\n",
      "\u001b[32m\u001b[1m  No Changes\u001b[22m\u001b[39m to `~/.julia/environments/v1.9/Manifest.toml`\n",
      "\u001b[32m\u001b[1m   Resolving\u001b[22m\u001b[39m package versions...\n",
      "\u001b[32m\u001b[1m  No Changes\u001b[22m\u001b[39m to `~/.julia/environments/v1.9/Project.toml`\n",
      "\u001b[32m\u001b[1m  No Changes\u001b[22m\u001b[39m to `~/.julia/environments/v1.9/Manifest.toml`\n",
      "\u001b[32m\u001b[1m   Resolving\u001b[22m\u001b[39m package versions...\n",
      "\u001b[32m\u001b[1m  No Changes\u001b[22m\u001b[39m to `~/.julia/environments/v1.9/Project.toml`\n",
      "\u001b[32m\u001b[1m  No Changes\u001b[22m\u001b[39m to `~/.julia/environments/v1.9/Manifest.toml`\n",
      "\u001b[32m\u001b[1m   Resolving\u001b[22m\u001b[39m package versions...\n",
      "\u001b[32m\u001b[1m  No Changes\u001b[22m\u001b[39m to `~/.julia/environments/v1.9/Project.toml`\n",
      "\u001b[32m\u001b[1m  No Changes\u001b[22m\u001b[39m to `~/.julia/environments/v1.9/Manifest.toml`\n",
      "\u001b[32m\u001b[1m   Resolving\u001b[22m\u001b[39m package versions...\n",
      "\u001b[32m\u001b[1m  No Changes\u001b[22m\u001b[39m to `~/.julia/environments/v1.9/Project.toml`\n",
      "\u001b[32m\u001b[1m  No Changes\u001b[22m\u001b[39m to `~/.julia/environments/v1.9/Manifest.toml`\n",
      "\u001b[32m\u001b[1m   Resolving\u001b[22m\u001b[39m package versions...\n",
      "\u001b[32m\u001b[1m  No Changes\u001b[22m\u001b[39m to `~/.julia/environments/v1.9/Project.toml`\n",
      "\u001b[32m\u001b[1m  No Changes\u001b[22m\u001b[39m to `~/.julia/environments/v1.9/Manifest.toml`\n",
      "\u001b[32m\u001b[1m   Resolving\u001b[22m\u001b[39m package versions...\n",
      "\u001b[32m\u001b[1m  No Changes\u001b[22m\u001b[39m to `~/.julia/environments/v1.9/Project.toml`\n",
      "\u001b[32m\u001b[1m  No Changes\u001b[22m\u001b[39m to `~/.julia/environments/v1.9/Manifest.toml`\n"
     ]
    }
   ],
   "source": [
    "using Pkg\n",
    "\n",
    "Pkg.add(\"DifferentialEquations\")\n",
    "Pkg.add(\"PyPlot\")\n",
    "Pkg.add(\"SpecialFunctions\")\n",
    "Pkg.add(\"PyCall\")\n",
    "Pkg.add(\"LsqFit\")\n",
    "Pkg.add(\"Statistics\")\n",
    "Pkg.add(\"JLD\")\n"
   ]
  },
  {
   "cell_type": "code",
   "execution_count": null,
   "id": "7c9cc563",
   "metadata": {},
   "outputs": [],
   "source": []
  },
  {
   "cell_type": "code",
   "execution_count": 40,
   "id": "1691b844",
   "metadata": {},
   "outputs": [],
   "source": [
    "using DifferentialEquations\n",
    "using PyPlot\n",
    "using SpecialFunctions\n",
    "using PyCall\n",
    "using LsqFit\n",
    "using Statistics\n",
    "using JLD"
   ]
  },
  {
   "cell_type": "code",
   "execution_count": 41,
   "id": "cf9de940",
   "metadata": {},
   "outputs": [],
   "source": [
    "\n",
    "\n",
    "rcParams = PyDict(matplotlib[\"rcParams\"])\n",
    "rcParams[\"font.sans-serif\"] = \"Nimbus Sans\"\n",
    "rc(\"font\", family=\"sans-serif\")\n",
    "rc(\"font\", size=10)\n",
    "rc(\"svg\", fonttype=\"none\")"
   ]
  },
  {
   "cell_type": "markdown",
   "id": "03477697",
   "metadata": {},
   "source": [
    "Systems of equations implemented is:\n",
    "\\begin{align}\n",
    "    d\\alpha &= (b - \\alpha + \\alpha^\\dagger (\\lambda - g^2 \\alpha^2))d\\tau + \\sqrt{\\lambda - g^2\\alpha^2} dW_1 \\\\\n",
    "    d\\alpha^\\dagger &= (b - \\alpha^\\dagger + \\alpha (\\lambda - g^2 \\alpha^{\\dagger 2}))d\\tau + \\sqrt{\\lambda - g^2\\alpha^{\\dagger 2}} dW_2 \\\\\n",
    "\\end{align}\n",
    "Here, $g$ is the quantum noise level of the OPO, and $\\lambda$ is the field fraction above threshold, and $b$ is a dimensionless bias. The bias is defined such that in absence of the OPO, a bias $b$ corresponds to having $b$^2 photons inside the cavity in the steady state. In terms of these parameters, the steady state photon number inside the cavity due to the OPO interaction, and neglecting the bias is $n = (\\lambda - 1 + g^2)/ g^2 \\approx (\\lambda - 1)/g^2$. The approximation holds for macroscopic systems where $g$ is small."
   ]
  },
  {
   "cell_type": "code",
   "execution_count": 42,
   "id": "1d7dfdd9",
   "metadata": {},
   "outputs": [
    {
     "data": {
      "text/plain": [
       "get_SDE_problem (generic function with 2 methods)"
      ]
     },
     "execution_count": 42,
     "metadata": {},
     "output_type": "execute_result"
    }
   ],
   "source": [
    "#returns Problem object which can be fed into Julia DifferentialEquations solver\n",
    "#parameters are as defined above\n",
    "#u0 is the initial condition. To start with an initial cavity field of α0, u0 = [α0, α0].\n",
    "\n",
    "\n",
    "#denote drift term in terms of original 0 values. \n",
    "function get_SDE_problem(g0, λ, b, u0, tspan)\n",
    "    function drift(du,u,p,t)\n",
    "        du[1] = b - u[1] + u[2]*(λ - g0^2*u[1]^2)\n",
    "        du[2] = b - u[2] + u[1]*(λ - g0^2*u[2]^2)\n",
    "    end\n",
    "    \n",
    "    function diffusion(du,u,p,t)\n",
    "        du[1] = sqrt(λ - g0^2*u[1]^2)\n",
    "        du[2] = sqrt(λ - g0^2*u[2]^2)\n",
    "    end\n",
    "    \n",
    "    problem = SDEProblem(drift, diffusion, u0, tspan)\n",
    "    return problem\n",
    "end\n",
    "\n",
    "\n",
    "#modified version of the above, which takes three possible \"models\" into account\n",
    "function get_SDE_problem(g0, λ, b, tspan, model::Symbol)\n",
    "    if model == :BIAS\n",
    "        u0 = [0., 0.]\n",
    "    elseif model == :INITIAL\n",
    "        u0 = b*[1., 1.]\n",
    "        b = 0.\n",
    "    elseif model == :BIAS_AND_INITIAL\n",
    "        u0 = b*[1., 1.]\n",
    "    else\n",
    "        error(\"Please enter a valid model.\")\n",
    "    end\n",
    "    function drift(du,u,p,t)\n",
    "        du[1] = b - u[1] + u[2]*(λ - g0^2*u[1]^2)\n",
    "        du[2] = b - u[2] + u[1]*(λ - g0^2*u[2]^2)\n",
    "    end\n",
    "\n",
    "    function diffusion(du,u,p,t)\n",
    "        du[1] = sqrt(λ - g0^2*u[1]^2)\n",
    "        du[2] = sqrt(λ - g0^2*u[2]^2)\n",
    "    end\n",
    "    \n",
    "    problem = SDEProblem(drift, diffusion, u0, tspan)\n",
    "    return problem\n",
    "end"
   ]
  },
  {
   "cell_type": "code",
   "execution_count": 43,
   "id": "0b0de1e7",
   "metadata": {},
   "outputs": [
    {
     "data": {
      "text/plain": [
       "steady_α (generic function with 1 method)"
      ]
     },
     "execution_count": 43,
     "metadata": {},
     "output_type": "execute_result"
    }
   ],
   "source": [
    "#runs N instances of an SDE problem and averages the steady state phases to give a probability between 0 and 1\n",
    "function get_probability(problem, N)\n",
    "    phases = 0.0*zeros(N)\n",
    "    for i in 1:N\n",
    "        sol = solve(problem);\n",
    "        \n",
    "        t = sol.t\n",
    "        u = sol.u;\n",
    "\n",
    "        αsol = [uu[1] for uu in u]\n",
    "        final = αsol[end]\n",
    "        if final > 0\n",
    "            phases[i] = 1.\n",
    "        else\n",
    "            phases[i] = 0.\n",
    "        end\n",
    "    end\n",
    "    p_plus = sum(phases)/N\n",
    "    return p_plus\n",
    "end\n",
    "\n",
    "#runs N instances of an SDE problem and returns trajectories\n",
    "function get_trajectories(problem, N, dt)\n",
    "    sol = solve(problem, saveat=dt);\n",
    "    tout = sol.t\n",
    "    \n",
    "    phases = 0.0*zeros(N)\n",
    "    trajectories = 0.0*zeros(N, length(tout))\n",
    "    for i in 1:N\n",
    "        sol = solve(problem, saveat=dt);\n",
    "         u = sol.u;\n",
    "\n",
    "        αsol = [uu[1] for uu in u]\n",
    "        βsol = [uu[2] for uu in u]\n",
    "        X = (βsol .+ αsol) / 2 #taking the \"real\" quadrature only\n",
    "        \n",
    "        trajectories[i,:] = X\n",
    "        \n",
    "        #phase determination\n",
    "        final = αsol[end]\n",
    "        if final > 0\n",
    "            phases[i] = 1.\n",
    "        else\n",
    "            phases[i] = 0.\n",
    "        end\n",
    "        \n",
    "    end\n",
    "    p_plus = sum(phases)/N\n",
    "    return tout, trajectories, p_plus\n",
    "end\n",
    "\n",
    "#returns steady state theoretical field value for OP)\n",
    "function steady_α(g, λ)\n",
    "    return sqrt(λ - 1 + g^2)/g\n",
    "end"
   ]
  },
  {
   "cell_type": "code",
   "execution_count": 44,
   "id": "b2ca8587",
   "metadata": {},
   "outputs": [
    {
     "data": {
      "text/plain": [
       "probability_from_sample (generic function with 1 method)"
      ]
     },
     "execution_count": 44,
     "metadata": {},
     "output_type": "execute_result"
    }
   ],
   "source": [
    "function probability_from_sample(sample)\n",
    "    result = 0.0*zeros(length(sample))\n",
    "    for (i, s) in enumerate(sample)\n",
    "        if s == 0\n",
    "            result[i] = 0.5\n",
    "        elseif s > 0\n",
    "            result[i] = 1.\n",
    "        else\n",
    "            result[i] = 0.\n",
    "        end\n",
    "    end\n",
    "    return sum(result)/length(sample)\n",
    "end"
   ]
  },
  {
   "cell_type": "markdown",
   "id": "1849fb7c",
   "metadata": {},
   "source": [
    "## Panels for main text Fig. 3"
   ]
  },
  {
   "cell_type": "code",
   "execution_count": 45,
   "id": "d461fc11",
   "metadata": {},
   "outputs": [
    {
     "data": {
      "text/plain": [
       "1"
      ]
     },
     "execution_count": 45,
     "metadata": {},
     "output_type": "execute_result"
    }
   ],
   "source": [
    "g0 = 1e-5 #small g for macroscopic OPO\n",
    "λ = 2.    #fraction above threshold (in field)\n",
    "b = 1   #bias field"
   ]
  },
  {
   "cell_type": "code",
   "execution_count": 46,
   "id": "66830411",
   "metadata": {},
   "outputs": [
    {
     "data": {
      "text/plain": [
       "1.0000000000999998e10"
      ]
     },
     "execution_count": 46,
     "metadata": {},
     "output_type": "execute_result"
    }
   ],
   "source": [
    "α0 = steady_α(g0, λ)\n",
    "n0 = α0^2"
   ]
  },
  {
   "cell_type": "code",
   "execution_count": 47,
   "id": "2881e1ca",
   "metadata": {},
   "outputs": [],
   "source": [
    "#initial condition\n",
    "u0 = 0. *[1, 1]\n",
    "\n",
    "#timespan to run, with units of cavity lifetimes (1/γ)\n",
    "tspan = (0.0, 20.0)\n",
    "\n",
    "#get problem with these parameters\n",
    "problem = get_SDE_problem(g0, λ, b, u0, tspan);"
   ]
  },
  {
   "cell_type": "code",
   "execution_count": 48,
   "id": "f28dc665",
   "metadata": {},
   "outputs": [
    {
     "name": "stdout",
     "output_type": "stream",
     "text": [
      " 26.706383 seconds (38.85 M allocations: 14.804 GiB, 11.36% gc time, 95.46% compilation time)\n"
     ]
    }
   ],
   "source": [
    "#number of trajectories\n",
    "N = 500\n",
    "\n",
    "#run trajectories\n",
    "@time tout, trajectories, p_plus = get_trajectories(problem, N, 0.1);"
   ]
  },
  {
   "cell_type": "code",
   "execution_count": 49,
   "id": "022ad78f",
   "metadata": {},
   "outputs": [],
   "source": [
    "mean_trajectory = [mean(trajectories[:,i]) for i in 1:length(tout)]\n",
    "trajectory_std = [std(trajectories[:,i]) for i in 1:length(tout)];\n",
    "\n",
    "theory_pos = 0.0*zeros(length(tout))\n",
    "for i in 1:length(tout)\n",
    "    μ = mean_trajectory[i]\n",
    "    σ = trajectory_std[i]\n",
    "    theory_pos[i] = 0.5*(1 + erf(μ/(√2 * σ)))\n",
    "end"
   ]
  },
  {
   "cell_type": "code",
   "execution_count": 50,
   "id": "bcc8a4bc",
   "metadata": {},
   "outputs": [],
   "source": [
    "pos_traj = [probability_from_sample(trajectories[:,i]) for i in 1:length(tout)];"
   ]
  },
  {
   "cell_type": "code",
   "execution_count": 51,
   "id": "33313022",
   "metadata": {},
   "outputs": [],
   "source": [
    "kslices = [2, 50, 118, 200]; #sample points at which to take time slices for probabilities"
   ]
  },
  {
   "cell_type": "code",
   "execution_count": 2,
   "id": "93f0b476",
   "metadata": {},
   "outputs": [
    {
     "ename": "LoadError",
     "evalue": "UndefVarError: `figure` not defined",
     "output_type": "error",
     "traceback": [
      "UndefVarError: `figure` not defined",
      "",
      "Stacktrace:",
      " [1] top-level scope",
      "   @ In[2]:1"
     ]
    }
   ],
   "source": [
    "figure(figsize=(4.6,2))\n",
    "\n",
    "#subplot(211)\n",
    "\n",
    "sample_trajectories = trajectories[1:5:end,:]\n",
    "N_traj = size(sample_trajectories)[1]\n",
    "\n",
    "for i in 1:N_traj\n",
    "    traj = sample_trajectories[i,:]\n",
    "    if traj[end] > 0\n",
    "        plot(tout, traj', \"blue\", alpha=0.02);\n",
    "    else\n",
    "        plot(tout, traj', \"red\", alpha=0.02);\n",
    "    end\n",
    "end\n",
    "\n",
    "\n",
    "\n",
    "#plot(tout, trajectories[1:50:end,:]', \"red\", alpha=0.05);\n",
    "#plot(tout, mean_trajectory, \"black\")\n",
    "# plot(tout, mean_trajectory .+ trajectory_std, linestyle=\"dashed\", \"red\")\n",
    "# plot(tout, mean_trajectory -+ trajectory_std, linestyle=\"dashed\", \"red\")\n",
    "\n",
    "vlines(tout[kslices], -1.5*α0, 1.5*α0, linestyle=\"dashed\", \"black\", alpha=0.5)\n",
    "\n",
    "xlim(tspan[1], tspan[end])\n",
    "#xlim(380, 420)\n",
    "ylim(-1.5*α0, 1.5*α0)\n",
    "#hlines([α_inflection], tspan[1], tspan[2])\n",
    "xticks(0:5:20)\n",
    "xlabel(\"t / γ\")\n",
    "ylabel(\"α\")\n",
    "\n",
    "tight_layout()\n",
    "\n",
    "# subplot(212)\n",
    "\n",
    "# plot(tout, pos_traj, \"black\")\n",
    "# #plot(tout, theory_pos)\n",
    "# ylim(0.0, 1.1)\n",
    "\n",
    "# xlim(tspan[1], tspan[end])\n",
    "# hlines([0.5], tspan[1], tspan[end], \"black\", linestyle=\"dashed\")\n",
    "\n",
    "# xlabel(\"t / γ\")\n",
    "# ylabel(\"Probability\")\n",
    "\n",
    "# tight_layout()\n",
    "\n",
    "# pos_traj[end]\n",
    "\n",
    "#savefig(\"macroscopic_trajectories_bias.svg\", dpi=600)"
   ]
  },
  {
   "cell_type": "code",
   "execution_count": 76,
   "id": "77d31805",
   "metadata": {},
   "outputs": [
    {
     "data": {
      "image/png": "[encoded data removed]",
      "text/plain": [
       "Figure(PyObject <Figure size 200x100 with 1 Axes>)"
      ]
     },
     "metadata": {},
     "output_type": "display_data"
    },
    {
     "name": "stderr",
     "output_type": "stream",
     "text": [
      "findfont: Generic family 'sans-serif' not found because none of the following families were found: Nimbus Sans\n",
      "findfont: Generic family 'sans-serif' not found because none of the following families were found: Nimbus Sans\n",
      "findfont: Generic family 'sans-serif' not found because none of the following families were found: Nimbus Sans\n",
      "findfont: Generic family 'sans-serif' not found because none of the following families were found: Nimbus Sans\n",
      "findfont: Generic family 'sans-serif' not found because none of the following families were found: Nimbus Sans\n",
      "findfont: Generic family 'sans-serif' not found because none of the following families were found: Nimbus Sans\n",
      "findfont: Generic family 'sans-serif' not found because none of the following families were found: Nimbus Sans\n",
      "findfont: Generic family 'sans-serif' not found because none of the following families were found: Nimbus Sans\n",
      "findfont: Generic family 'sans-serif' not found because none of the following families were found: Nimbus Sans\n",
      "findfont: Generic family 'sans-serif' not found because none of the following families were found: Nimbus Sans\n",
      "findfont: Generic family 'sans-serif' not found because none of the following families were found: Nimbus Sans\n",
      "findfont: Generic family 'sans-serif' not found because none of the following families were found: Nimbus Sans\n",
      "findfont: Generic family 'sans-serif' not found because none of the following families were found: Nimbus Sans\n",
      "findfont: Generic family 'sans-serif' not found because none of the following families were found: Nimbus Sans\n",
      "findfont: Generic family 'sans-serif' not found because none of the following families were found: Nimbus Sans\n",
      "findfont: Generic family 'sans-serif' not found because none of the following families were found: Nimbus Sans\n",
      "findfont: Generic family 'sans-serif' not found because none of the following families were found: Nimbus Sans\n",
      "findfont: Generic family 'sans-serif' not found because none of the following families were found: Nimbus Sans\n",
      "findfont: Generic family 'sans-serif' not found because none of the following families were found: Nimbus Sans\n",
      "findfont: Generic family 'sans-serif' not found because none of the following families were found: Nimbus Sans\n",
      "findfont: Generic family 'sans-serif' not found because none of the following families were found: Nimbus Sans\n",
      "findfont: Generic family 'sans-serif' not found because none of the following families were found: Nimbus Sans\n",
      "findfont: Generic family 'sans-serif' not found because none of the following families were found: Nimbus Sans\n",
      "findfont: Generic family 'sans-serif' not found because none of the following families were found: Nimbus Sans\n",
      "findfont: Generic family 'sans-serif' not found because none of the following families were found: Nimbus Sans\n",
      "findfont: Generic family 'sans-serif' not found because none of the following families were found: Nimbus Sans\n",
      "findfont: Generic family 'sans-serif' not found because none of the following families were found: Nimbus Sans\n"
     ]
    },
    {
     "data": {
      "text/plain": [
       "PyObject Text(24.000000000000007, 0.5, 'α')"
      ]
     },
     "execution_count": 76,
     "metadata": {},
     "output_type": "execute_result"
    }
   ],
   "source": [
    "figure(figsize=(2,1))\n",
    "\n",
    "for i in 1:N_traj\n",
    "    traj = sample_trajectories[i,:]\n",
    "    if traj[end] > 0\n",
    "        plot(tout, traj', \"blue\", alpha=0.02);\n",
    "    else\n",
    "        plot(tout, traj', \"red\", alpha=0.02);\n",
    "    end\n",
    "end\n",
    "#plot(tout, mean_trajectory, \"black\")\n",
    "# plot(tout, mean_trajectory .+ trajectory_std, linestyle=\"dashed\", \"red\")\n",
    "# plot(tout, mean_trajectory -+ trajectory_std, linestyle=\"dashed\", \"red\")\n",
    "\n",
    "#vlines(tout[kslices], -1.2*α0, 1.2*α0, linestyle=\"dotted\", \"black\", alpha=0.5)\n",
    "\n",
    "xlim(0.0, 3)\n",
    "#xlim(380, 420)\n",
    "ymax = 10\n",
    "ylim(-ymax, ymax)\n",
    "#hlines([α_inflection], tspan[1], tspan[2])\n",
    "xticks(0:1:3)\n",
    "xlabel(\"t / γ\")\n",
    "ylabel(\"α\")\n",
    "\n",
    "#savefig(\"macroscopic_trajectories_gain_zoom.svg\")\n",
    "\n",
    "\n",
    "\n"
   ]
  },
  {
   "cell_type": "code",
   "execution_count": 54,
   "id": "475b16e4",
   "metadata": {},
   "outputs": [
    {
     "name": "stderr",
     "output_type": "stream",
     "text": [
      "findfont: Generic family 'sans-serif' not found because none of the following families were found: Nimbus Sans\n",
      "findfont: Generic family 'sans-serif' not found because none of the following families were found: Nimbus Sans\n",
      "findfont: Generic family 'sans-serif' not found because none of the following families were found: Nimbus Sans\n",
      "findfont: Generic family 'sans-serif' not found because none of the following families were found: Nimbus Sans\n",
      "findfont: Generic family 'sans-serif' not found because none of the following families were found: Nimbus Sans\n",
      "findfont: Generic family 'sans-serif' not found because none of the following families were found: Nimbus Sans\n",
      "findfont: Generic family 'sans-serif' not found because none of the following families were found: Nimbus Sans\n",
      "findfont: Generic family 'sans-serif' not found because none of the following families were found: Nimbus Sans\n",
      "findfont: Generic family 'sans-serif' not found because none of the following families were found: Nimbus Sans\n",
      "findfont: Generic family 'sans-serif' not found because none of the following families were found: Nimbus Sans\n"
     ]
    },
    {
     "data": {
      "image/png": "[encoded data removed]",
      "text/plain": [
       "Figure(PyObject <Figure size 500x150 with 4 Axes>)"
      ]
     },
     "metadata": {},
     "output_type": "display_data"
    },
    {
     "name": "stderr",
     "output_type": "stream",
     "text": [
      "findfont: Generic family 'sans-serif' not found because none of the following families were found: Nimbus Sans\n",
      "findfont: Generic family 'sans-serif' not found because none of the following families were found: Nimbus Sans\n",
      "findfont: Generic family 'sans-serif' not found because none of the following families were found: Nimbus Sans\n",
      "findfont: Generic family 'sans-serif' not found because none of the following families were found: Nimbus Sans\n",
      "findfont: Generic family 'sans-serif' not found because none of the following families were found: Nimbus Sans\n",
      "findfont: Generic family 'sans-serif' not found because none of the following families were found: Nimbus Sans\n",
      "findfont: Generic family 'sans-serif' not found because none of the following families were found: Nimbus Sans\n",
      "findfont: Generic family 'sans-serif' not found because none of the following families were found: Nimbus Sans\n",
      "findfont: Generic family 'sans-serif' not found because none of the following families were found: Nimbus Sans\n",
      "findfont: Generic family 'sans-serif' not found because none of the following families were found: Nimbus Sans\n",
      "findfont: Generic family 'sans-serif' not found because none of the following families were found: Nimbus Sans\n",
      "findfont: Generic family 'sans-serif' not found because none of the following families were found: Nimbus Sans\n",
      "findfont: Generic family 'sans-serif' not found because none of the following families were found: Nimbus Sans\n",
      "findfont: Generic family 'sans-serif' not found because none of the following families were found: Nimbus Sans\n",
      "findfont: Generic family 'sans-serif' not found because none of the following families were found: Nimbus Sans\n",
      "findfont: Generic family 'sans-serif' not found because none of the following families were found: Nimbus Sans\n",
      "findfont: Generic family 'sans-serif' not found because none of the following families were found: Nimbus Sans\n",
      "findfont: Generic family 'sans-serif' not found because none of the following families were found: Nimbus Sans\n",
      "findfont: Generic family 'sans-serif' not found because none of the following families were found: Nimbus Sans\n",
      "findfont: Generic family 'sans-serif' not found because none of the following families were found: Nimbus Sans\n",
      "findfont: Generic family 'sans-serif' not found because none of the following families were found: Nimbus Sans\n",
      "findfont: Generic family 'sans-serif' not found because none of the following families were found: Nimbus Sans\n",
      "findfont: Generic family 'sans-serif' not found because none of the following families were found: Nimbus Sans\n",
      "findfont: Generic family 'sans-serif' not found because none of the following families were found: Nimbus Sans\n",
      "findfont: Generic family 'sans-serif' not found because none of the following families were found: Nimbus Sans\n",
      "findfont: Generic family 'sans-serif' not found because none of the following families were found: Nimbus Sans\n",
      "findfont: Generic family 'sans-serif' not found because none of the following families were found: Nimbus Sans\n",
      "findfont: Generic family 'sans-serif' not found because none of the following families were found: Nimbus Sans\n",
      "findfont: Generic family 'sans-serif' not found because none of the following families were found: Nimbus Sans\n",
      "findfont: Generic family 'sans-serif' not found because none of the following families were found: Nimbus Sans\n"
     ]
    }
   ],
   "source": [
    "figure(figsize=(5,1.5))\n",
    "for (i, k) in enumerate(kslices)\n",
    "    slice = trajectories[:,k]\n",
    "    \n",
    "    bound = maximum(abs.(slice))\n",
    "    \n",
    "    subplot(1,4,i)\n",
    "    n, bins, patches = hist(slice, bins=27, density=true, color=\"red\", alpha=0.3);\n",
    "    \n",
    "    ymax = 1.1*maximum(n)\n",
    "    \n",
    "    vlines([0.], 0, ymax, \"black\", linestyle=\"dashed\")\n",
    "    ylim(0, ymax)\n",
    "    xlim(-1.2*bound, 1.2*bound)\n",
    "    yticks([])\n",
    "    #xticks([])\n",
    "    xlabel(\"α\")\n",
    "    ylabel(\"p(α)\")\n",
    "end\n",
    "\n",
    "tight_layout()\n",
    "#xlim(-1.2*α0, 1.2*α0)\n",
    "\n",
    "#savefig(\"macroscopic_probability_evolution.svg\")"
   ]
  },
  {
   "cell_type": "code",
   "execution_count": 55,
   "id": "1e413949",
   "metadata": {},
   "outputs": [
    {
     "data": {
      "image/png": "[encoded data removed]",
      "text/plain": [
       "Figure(PyObject <Figure size 640x480 with 1 Axes>)"
      ]
     },
     "metadata": {},
     "output_type": "display_data"
    },
    {
     "name": "stderr",
     "output_type": "stream",
     "text": [
      "findfont: Generic family 'sans-serif' not found because none of the following families were found: Nimbus Sans\n",
      "findfont: Generic family 'sans-serif' not found because none of the following families were found: Nimbus Sans\n",
      "findfont: Generic family 'sans-serif' not found because none of the following families were found: Nimbus Sans\n",
      "findfont: Generic family 'sans-serif' not found because none of the following families were found: Nimbus Sans\n",
      "findfont: Generic family 'sans-serif' not found because none of the following families were found: Nimbus Sans\n",
      "findfont: Generic family 'sans-serif' not found because none of the following families were found: Nimbus Sans\n",
      "findfont: Generic family 'sans-serif' not found because none of the following families were found: Nimbus Sans\n",
      "findfont: Generic family 'sans-serif' not found because none of the following families were found: Nimbus Sans\n",
      "findfont: Generic family 'sans-serif' not found because none of the following families were found: Nimbus Sans\n",
      "findfont: Generic family 'sans-serif' not found because none of the following families were found: Nimbus Sans\n",
      "findfont: Generic family 'sans-serif' not found because none of the following families were found: Nimbus Sans\n",
      "findfont: Generic family 'sans-serif' not found because none of the following families were found: Nimbus Sans\n",
      "findfont: Generic family 'sans-serif' not found because none of the following families were found: Nimbus Sans\n",
      "findfont: Generic family 'sans-serif' not found because none of the following families were found: Nimbus Sans\n",
      "findfont: Generic family 'sans-serif' not found because none of the following families were found: Nimbus Sans\n",
      "findfont: Generic family 'sans-serif' not found because none of the following families were found: Nimbus Sans\n",
      "findfont: Generic family 'sans-serif' not found because none of the following families were found: Nimbus Sans\n",
      "findfont: Generic family 'sans-serif' not found because none of the following families were found: Nimbus Sans\n",
      "findfont: Generic family 'sans-serif' not found because none of the following families were found: Nimbus Sans\n",
      "findfont: Generic family 'sans-serif' not found because none of the following families were found: Nimbus Sans\n",
      "findfont: Generic family 'sans-serif' not found because none of the following families were found: Nimbus Sans\n",
      "findfont: Generic family 'sans-serif' not found because none of the following families were found: Nimbus Sans\n",
      "findfont: Generic family 'sans-serif' not found because none of the following families were found: Nimbus Sans\n",
      "findfont: Generic family 'sans-serif' not found because none of the following families were found: Nimbus Sans\n",
      "findfont: Generic family 'sans-serif' not found because none of the following families were found: Nimbus Sans\n",
      "findfont: Generic family 'sans-serif' not found because none of the following families were found: Nimbus Sans\n",
      "findfont: Generic family 'sans-serif' not found because none of the following families were found: Nimbus Sans\n",
      "findfont: Generic family 'sans-serif' not found because none of the following families were found: Nimbus Sans\n",
      "findfont: Generic family 'sans-serif' not found because none of the following families were found: Nimbus Sans\n",
      "findfont: Generic family 'sans-serif' not found because none of the following families were found: Nimbus Sans\n",
      "findfont: Generic family 'sans-serif' not found because none of the following families were found: Nimbus Sans\n",
      "findfont: Generic family 'sans-serif' not found because none of the following families were found: Nimbus Sans\n",
      "findfont: Generic family 'sans-serif' not found because none of the following families were found: Nimbus Sans\n",
      "findfont: Generic family 'sans-serif' not found because none of the following families were found: Nimbus Sans\n",
      "findfont: Generic family 'sans-serif' not found because none of the following families were found: Nimbus Sans\n",
      "findfont: Generic family 'sans-serif' not found because none of the following families were found: Nimbus Sans\n",
      "findfont: Generic family 'sans-serif' not found because none of the following families were found: Nimbus Sans\n",
      "findfont: Generic family 'sans-serif' not found because none of the following families were found: Nimbus Sans\n"
     ]
    }
   ],
   "source": [
    "slice = trajectories[:,6]\n",
    "n, bins, patches = hist(slice, bins=27, density=true, color=\"red\", alpha=0.3);\n",
    "\n",
    "for r in patches\n",
    "    xval = r.get_x()\n",
    "    if xval > 0.\n",
    "        r.set_facecolor(\"blue\")\n",
    "    end\n",
    "end"
   ]
  },
  {
   "cell_type": "markdown",
   "id": "c8ad0ee2",
   "metadata": {},
   "source": [
    "## Results are independent of g"
   ]
  },
  {
   "cell_type": "code",
   "execution_count": 56,
   "id": "0dd53d9b",
   "metadata": {},
   "outputs": [
    {
     "data": {
      "text/plain": [
       "get_tmax (generic function with 1 method)"
      ]
     },
     "execution_count": 56,
     "metadata": {},
     "output_type": "execute_result"
    }
   ],
   "source": [
    "function get_tmax(λ, α0)\n",
    "    return 3*log(α0)/(λ-1)\n",
    "end"
   ]
  },
  {
   "cell_type": "code",
   "execution_count": 57,
   "id": "8ae5487e",
   "metadata": {},
   "outputs": [
    {
     "data": {
      "text/plain": [
       "1000.000499999875"
      ]
     },
     "execution_count": 57,
     "metadata": {},
     "output_type": "execute_result"
    }
   ],
   "source": [
    "g0 = 1e-3\n",
    "λ = 2\n",
    "b = 0.8\n",
    "\n",
    "α0 = steady_α(g0, λ)"
   ]
  },
  {
   "cell_type": "code",
   "execution_count": 58,
   "id": "793303d9",
   "metadata": {},
   "outputs": [
    {
     "data": {
      "text/plain": [
       "20.72326733694566"
      ]
     },
     "execution_count": 58,
     "metadata": {},
     "output_type": "execute_result"
    }
   ],
   "source": [
    "tmax = get_tmax(λ, α0)"
   ]
  },
  {
   "cell_type": "code",
   "execution_count": 59,
   "id": "f3972115",
   "metadata": {},
   "outputs": [],
   "source": [
    "#initial condition\n",
    "u0 = 0. *[1, 1]\n",
    "\n",
    "#timespan to run, with units of cavity lifetimes (1/γ)\n",
    "tspan = (0.0, tmax)\n",
    "\n",
    "#get problem with these parameters\n",
    "problem = get_SDE_problem(g0, λ, b, u0, tspan);"
   ]
  },
  {
   "cell_type": "code",
   "execution_count": 60,
   "id": "5df2f62c",
   "metadata": {},
   "outputs": [],
   "source": [
    "N = 500\n",
    "tout, trajectories, p_plus = get_trajectories(problem, N, 0.1);"
   ]
  },
  {
   "cell_type": "code",
   "execution_count": 61,
   "id": "9a61c3b9",
   "metadata": {},
   "outputs": [
    {
     "data": {
      "image/png": "[encoded data removed]",
      "text/plain": [
       "Figure(PyObject <Figure size 640x480 with 1 Axes>)"
      ]
     },
     "metadata": {},
     "output_type": "display_data"
    },
    {
     "name": "stderr",
     "output_type": "stream",
     "text": [
      "findfont: Generic family 'sans-serif' not found because none of the following families were found: Nimbus Sans\n",
      "findfont: Generic family 'sans-serif' not found because none of the following families were found: Nimbus Sans\n",
      "findfont: Generic family 'sans-serif' not found because none of the following families were found: Nimbus Sans\n",
      "findfont: Generic family 'sans-serif' not found because none of the following families were found: Nimbus Sans\n",
      "findfont: Generic family 'sans-serif' not found because none of the following families were found: Nimbus Sans\n",
      "findfont: Generic family 'sans-serif' not found because none of the following families were found: Nimbus Sans\n",
      "findfont: Generic family 'sans-serif' not found because none of the following families were found: Nimbus Sans\n",
      "findfont: Generic family 'sans-serif' not found because none of the following families were found: Nimbus Sans\n",
      "findfont: Generic family 'sans-serif' not found because none of the following families were found: Nimbus Sans\n",
      "findfont: Generic family 'sans-serif' not found because none of the following families were found: Nimbus Sans\n",
      "findfont: Generic family 'sans-serif' not found because none of the following families were found: Nimbus Sans\n",
      "findfont: Generic family 'sans-serif' not found because none of the following families were found: Nimbus Sans\n",
      "findfont: Generic family 'sans-serif' not found because none of the following families were found: Nimbus Sans\n",
      "findfont: Generic family 'sans-serif' not found because none of the following families were found: Nimbus Sans\n",
      "findfont: Generic family 'sans-serif' not found because none of the following families were found: Nimbus Sans\n",
      "findfont: Generic family 'sans-serif' not found because none of the following families were found: Nimbus Sans\n",
      "findfont: Generic family 'sans-serif' not found because none of the following families were found: Nimbus Sans\n",
      "findfont: Generic family 'sans-serif' not found because none of the following families were found: Nimbus Sans\n",
      "findfont: Generic family 'sans-serif' not found because none of the following families were found: Nimbus Sans\n",
      "findfont: Generic family 'sans-serif' not found because none of the following families were found: Nimbus Sans\n",
      "findfont: Generic family 'sans-serif' not found because none of the following families were found: Nimbus Sans\n",
      "findfont: Generic family 'sans-serif' not found because none of the following families were found: Nimbus Sans\n",
      "findfont: Generic family 'sans-serif' not found because none of the following families were found: Nimbus Sans\n",
      "findfont: Generic family 'sans-serif' not found because none of the following families were found: Nimbus Sans\n",
      "findfont: Generic family 'sans-serif' not found because none of the following families were found: Nimbus Sans\n",
      "findfont: Generic family 'sans-serif' not found because none of the following families were found: Nimbus Sans\n",
      "findfont: Generic family 'sans-serif' not found because none of the following families were found: Nimbus Sans\n",
      "findfont: Generic family 'sans-serif' not found because none of the following families were found: Nimbus Sans\n",
      "findfont: Generic family 'sans-serif' not found because none of the following families were found: Nimbus Sans\n",
      "findfont: Generic family 'sans-serif' not found because none of the following families were found: Nimbus Sans\n",
      "findfont: Generic family 'sans-serif' not found because none of the following families were found: Nimbus Sans\n",
      "findfont: Generic family 'sans-serif' not found because none of the following families were found: Nimbus Sans\n",
      "findfont: Generic family 'sans-serif' not found because none of the following families were found: Nimbus Sans\n",
      "findfont: Generic family 'sans-serif' not found because none of the following families were found: Nimbus Sans\n",
      "findfont: Generic family 'sans-serif' not found because none of the following families were found: Nimbus Sans\n",
      "findfont: Generic family 'sans-serif' not found because none of the following families were found: Nimbus Sans\n",
      "findfont: Generic family 'sans-serif' not found because none of the following families were found: Nimbus Sans\n",
      "findfont: Generic family 'sans-serif' not found because none of the following families were found: Nimbus Sans\n",
      "findfont: Generic family 'sans-serif' not found because none of the following families were found: Nimbus Sans\n",
      "findfont: Generic family 'sans-serif' not found because none of the following families were found: Nimbus Sans\n",
      "findfont: Generic family 'sans-serif' not found because none of the following families were found: Nimbus Sans\n",
      "findfont: Generic family 'sans-serif' not found because none of the following families were found: Nimbus Sans\n"
     ]
    }
   ],
   "source": [
    "plot(tout, trajectories[1:5:end,:]', \"red\", alpha=0.05);"
   ]
  },
  {
   "cell_type": "code",
   "execution_count": 62,
   "id": "013e1114",
   "metadata": {},
   "outputs": [],
   "source": [
    "#This cell runs simulations for a fixed bias level, and values of g selected across many orders of magnitude\n",
    "#in order to show that the probabilities are independent of g for small g\n",
    "\n",
    "gvals = [1e-5, 1e-4, 1e-3, 1e-2, 1e-1]\n",
    "gprobs = 0.0*gvals\n",
    "\n",
    "N = 500\n",
    "\n",
    "for (i, g0) in enumerate(gvals)\n",
    "    α0 = steady_α(g0, λ)\n",
    "    tmax = get_tmax(λ, α0)\n",
    "    problem = get_SDE_problem(g0, λ, b, u0, tspan);\n",
    "    p = get_probability(problem, N)\n",
    "    gprobs[i] = p\n",
    "end"
   ]
  },
  {
   "cell_type": "code",
   "execution_count": 63,
   "id": "600c335e",
   "metadata": {},
   "outputs": [
    {
     "data": {
      "text/plain": [
       "5-element Vector{Float64}:\n",
       " 0.87\n",
       " 0.87\n",
       " 0.866\n",
       " 0.83\n",
       " 0.862"
      ]
     },
     "execution_count": 63,
     "metadata": {},
     "output_type": "execute_result"
    }
   ],
   "source": [
    "gprobs"
   ]
  },
  {
   "cell_type": "markdown",
   "id": "13aefafa",
   "metadata": {},
   "source": [
    "## Pump dependence for different models"
   ]
  },
  {
   "cell_type": "code",
   "execution_count": 64,
   "id": "83ac8ac0",
   "metadata": {},
   "outputs": [
    {
     "data": {
      "text/plain": [
       "lin (generic function with 1 method)"
      ]
     },
     "execution_count": 64,
     "metadata": {},
     "output_type": "execute_result"
    }
   ],
   "source": [
    "model_erf(x, p) = 0.5*(erf.(x/p[1]) .+ 1)\n",
    "lin(x,p) = p[1]*x .+ p[2]"
   ]
  },
  {
   "cell_type": "code",
   "execution_count": 65,
   "id": "b2b884ec",
   "metadata": {},
   "outputs": [
    {
     "data": {
      "text/plain": [
       "4000"
      ]
     },
     "execution_count": 65,
     "metadata": {},
     "output_type": "execute_result"
    }
   ],
   "source": [
    "bias = range(-6, 6, length=31)\n",
    "pumps = [2., 4., 6., 8.]\n",
    "models = [:BIAS, :INITIAL, :BIAS_AND_INITIAL]\n",
    "\n",
    "N = 4000"
   ]
  },
  {
   "cell_type": "markdown",
   "id": "aa9ca9ff",
   "metadata": {},
   "source": [
    "The commented cell below runs many trajectories to compute probability as a function of bias field for different bias models, and pump fractions above threshold. This takes some time to run, so the resulting data is provided in all_models.jld, which can be loaded as seen below."
   ]
  },
  {
   "cell_type": "code",
   "execution_count": 66,
   "id": "3ee632e3",
   "metadata": {},
   "outputs": [],
   "source": [
    "# all_models = Dict()\n",
    "\n",
    "# for model in models\n",
    "#     probs = 0.0*zeros(length(pumps), length(bias))\n",
    "#     for (i, b) in enumerate(bias)\n",
    "#         for (j, λ) in enumerate(pumps)\n",
    "#             u0 = 0*[b, b]\n",
    "#             problem = get_SDE_problem(g0, λ, b, tspan, model)\n",
    "#             prob = get_probability(problem, N)\n",
    "#             probs[j,i] = prob\n",
    "#         end\n",
    "#     end\n",
    "#     all_models[model] = probs\n",
    "# end"
   ]
  },
  {
   "cell_type": "code",
   "execution_count": 67,
   "id": "b7e52afd",
   "metadata": {},
   "outputs": [],
   "source": [
    "# using JLD\n",
    "\n",
    "# save(\"all_models.jld\", \"data\", all_models)"
   ]
  },
  {
   "cell_type": "code",
   "execution_count": 68,
   "id": "832e1a39",
   "metadata": {},
   "outputs": [
    {
     "ename": "LoadError",
     "evalue": "ArgumentError: No file exists at given path: all_models.jld",
     "output_type": "error",
     "traceback": [
      "ArgumentError: No file exists at given path: all_models.jld",
      "",
      "Stacktrace:",
      " [1] checkpath_load",
      "   @ ~/.julia/packages/FileIO/BE7iZ/src/loadsave.jl:167 [inlined]",
      " [2] load(::String; options::Base.Pairs{Symbol, Union{}, Tuple{}, NamedTuple{(), Tuple{}}})",
      "   @ FileIO ~/.julia/packages/FileIO/BE7iZ/src/loadsave.jl:110",
      " [3] load(::String)",
      "   @ FileIO ~/.julia/packages/FileIO/BE7iZ/src/loadsave.jl:109",
      " [4] top-level scope",
      "   @ In[68]:3"
     ]
    }
   ],
   "source": [
    "#loading precomputed data\n",
    "\n",
    "all_models = load(\"all_models.jld\")[\"data\"];"
   ]
  },
  {
   "cell_type": "code",
   "execution_count": 69,
   "id": "13646525",
   "metadata": {},
   "outputs": [],
   "source": [
    "name = [\"Bias\", \"Initial condition\", \"Bias + initial condition\"]\n",
    "name_dict = Dict(zip(models, name));"
   ]
  },
  {
   "cell_type": "code",
   "execution_count": 70,
   "id": "42fbcb60",
   "metadata": {},
   "outputs": [
    {
     "ename": "LoadError",
     "evalue": "UndefVarError: `all_models` not defined",
     "output_type": "error",
     "traceback": [
      "UndefVarError: `all_models` not defined",
      "",
      "Stacktrace:",
      " [1] top-level scope",
      "   @ ./In[70]:8"
     ]
    }
   ],
   "source": [
    "#performs erf function fit to the raw data for each of these models\n",
    "\n",
    "all_models_bias_params = Dict()\n",
    "\n",
    "for model in models\n",
    "    fit_params = 0.0*zeros(length(pumps))\n",
    "    \n",
    "    probs = all_models[model]\n",
    "    for i in 1:length(pumps)\n",
    "        prob_data = probs[i,:]\n",
    "        p0 = [1.]\n",
    "        fit = curve_fit(model_erf, collect(bias), prob_data, p0)\n",
    "        b0_fit = fit.param[1]\n",
    "        fit_params[i] = b0_fit\n",
    "    end\n",
    "    all_models_bias_params[model] = fit_params\n",
    "end"
   ]
  },
  {
   "cell_type": "markdown",
   "id": "3eabccba",
   "metadata": {},
   "source": [
    "## Supplement Fig: Behavior of probability with bias for different bias models"
   ]
  },
  {
   "cell_type": "code",
   "execution_count": 71,
   "id": "6f755970",
   "metadata": {},
   "outputs": [
    {
     "ename": "LoadError",
     "evalue": "UndefVarError: `all_models` not defined",
     "output_type": "error",
     "traceback": [
      "UndefVarError: `all_models` not defined",
      "",
      "Stacktrace:",
      " [1] top-level scope",
      "   @ ./In[71]:7"
     ]
    }
   ],
   "source": [
    "bias_dense = range(minimum(bias), maximum(bias), length=100)\n",
    "\n",
    "\n",
    "figure(figsize=(6,2.5))\n",
    "for (j, model) in enumerate(models)\n",
    "\n",
    "    probs = all_models[model]\n",
    "    fit_params = all_models_bias_params[model]\n",
    "\n",
    "    subplot(1,3,j)\n",
    "    hlines([0.5], -6, 6, \"black\", linestyle=\"dashed\", linewidth=1)\n",
    "    for i in 1:length(pumps)\n",
    "        data = probs[i,:]\n",
    "        if j==1\n",
    "            scatter(bias[1:3:end], data[1:3:end], s=20)\n",
    "        else\n",
    "            scatter(bias, data, s=20)\n",
    "        end\n",
    "        fit = model_erf.(bias_dense, fit_params[i])\n",
    "        plot(bias_dense, fit)\n",
    "    end\n",
    "\n",
    "    xlim(minimum(bias), maximum(bias))\n",
    "    \n",
    "    title(name_dict[model], size=10)\n",
    "\n",
    "    xlabel(\"Bias b\")\n",
    "    if j == 1\n",
    "        ylabel(\"Probbility\")\n",
    "        xticks(-6:2:6)\n",
    "    else\n",
    "        xlim(-2, 2)\n",
    "        xticks(-2:1:2)\n",
    "    end\n",
    "end\n",
    "\n",
    "tight_layout()\n",
    "\n",
    "#savefig(\"bias_models_probability_SI.svg\", dpi=800)\n",
    "\n",
    "#scatter(bias, probs_init)\n",
    "#plot(bias, fit_erf)"
   ]
  },
  {
   "cell_type": "markdown",
   "id": "f6219d8d",
   "metadata": {},
   "source": [
    "## Supplement Fig: Dependence of critical bias on pump level"
   ]
  },
  {
   "cell_type": "code",
   "execution_count": 72,
   "id": "d8001b9b",
   "metadata": {},
   "outputs": [
    {
     "ename": "LoadError",
     "evalue": "KeyError: key :BIAS not found",
     "output_type": "error",
     "traceback": [
      "KeyError: key :BIAS not found",
      "",
      "Stacktrace:",
      " [1] getindex(h::Dict{Any, Any}, key::Symbol)",
      "   @ Base ./dict.jl:484",
      " [2] top-level scope",
      "   @ ./In[72]:9"
     ]
    }
   ],
   "source": [
    "#showing how bias depends on pump for each model\n",
    "\n",
    "styles = [\"solid\", \"dashed\", \"dashdot\"]\n",
    "style_dict = Dict(zip(models, styles))\n",
    "\n",
    "figure(figsize=(3,3))\n",
    "\n",
    "for model in models\n",
    "    fit_params = all_models_bias_params[model]\n",
    "    linear_fit = curve_fit(lin, collect(pumps), fit_params, [1.,0.]);\n",
    "    plot(pumps, lin(pumps, linear_fit.param), \"black\", linestyle=style_dict[model])\n",
    "    scatter(pumps, fit_params, s=20, label=model)\n",
    "end\n",
    "\n",
    "ylim(0, 6)\n",
    "xticks(2:2:8)\n",
    "\n",
    "xlabel(\"Fraction above threshold λ\")\n",
    "ylabel(\"Critical bias b0\")\n",
    "\n",
    "legend()\n",
    "\n",
    "tight_layout()\n",
    "\n",
    "#savefig(\"bias_models_pump_dependence.svg\", dpi=800)"
   ]
  },
  {
   "cell_type": "code",
   "execution_count": null,
   "id": "cce837b1",
   "metadata": {},
   "outputs": [],
   "source": []
  },
  {
   "cell_type": "code",
   "execution_count": null,
   "id": "e5d3ec82",
   "metadata": {},
   "outputs": [],
   "source": []
  },
  {
   "cell_type": "code",
   "execution_count": null,
   "id": "92022181",
   "metadata": {},
   "outputs": [],
   "source": []
  },
  {
   "cell_type": "code",
   "execution_count": null,
   "id": "0d285ef1",
   "metadata": {},
   "outputs": [],
   "source": []
  }
 ],
 "metadata": {
  "kernelspec": {
   "display_name": "Julia 1.9.0",
   "language": "julia",
   "name": "julia-1.9"
  },
  "language_info": {
   "file_extension": ".jl",
   "mimetype": "application/julia",
   "name": "julia",
   "version": "1.9.0"
  }
 },
 "nbformat": 4,
 "nbformat_minor": 5
}
